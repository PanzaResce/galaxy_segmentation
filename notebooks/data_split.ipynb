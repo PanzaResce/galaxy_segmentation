{
 "cells": [
  {
   "cell_type": "code",
   "execution_count": 1,
   "metadata": {},
   "outputs": [],
   "source": [
    "import sys\n",
    "sys.path.append('../src')\n",
    "\n",
    "import json\n",
    "import os\n",
    "import skimage.io\n",
    "from config import DATASET_DIR\n",
    "from sklearn.model_selection import train_test_split"
   ]
  },
  {
   "cell_type": "markdown",
   "metadata": {},
   "source": [
    "Total dataset has 28274 elements\n",
    "- Train: 70% (19791)\n",
    "- Validation: 20% (5655)\n",
    "- Test: 10% (2828)"
   ]
  },
  {
   "cell_type": "code",
   "execution_count": 2,
   "metadata": {},
   "outputs": [],
   "source": [
    "with open(os.path.join(DATASET_DIR, 'galaxy_segment_classes.json')) as fp:\n",
    "    galaxy_segment = json.load(fp)"
   ]
  },
  {
   "cell_type": "code",
   "execution_count": 3,
   "metadata": {},
   "outputs": [
    {
     "name": "stdout",
     "output_type": "stream",
     "text": [
      "No overlap between train, validation, and test sets.\n",
      "Training set size: 19791\n",
      "Validation set size: 5655\n",
      "Test set size: 2828\n"
     ]
    }
   ],
   "source": [
    "# Convert the dictionary keys to a list\n",
    "keys = list(galaxy_segment.keys())\n",
    "\n",
    "train_keys, temp_keys = train_test_split(keys, test_size=0.3, random_state=42)\n",
    "val_keys, test_keys = train_test_split(temp_keys, test_size=(1/3), random_state=42)\n",
    "\n",
    "def split_data(keys, original_data):\n",
    "    return {key: original_data[key] for key in keys}\n",
    "\n",
    "# Create the splits\n",
    "train_data = split_data(train_keys, galaxy_segment)\n",
    "val_data = split_data(val_keys, galaxy_segment)\n",
    "test_data = split_data(test_keys, galaxy_segment)\n",
    "\n",
    "# Check that there is no overlap between the sets\n",
    "assert not set(train_keys) & set(val_keys), \"Overlap detected between train and validation sets!\"\n",
    "assert not set(train_keys) & set(test_keys), \"Overlap detected between train and test sets!\"\n",
    "assert not set(val_keys) & set(test_keys), \"Overlap detected between validation and test sets!\"\n",
    "\n",
    "print(\"No overlap between train, validation, and test sets.\")\n",
    "\n",
    "with open(os.path.join(DATASET_DIR, 'galaxy_train.json'), 'w') as file:\n",
    "    json.dump(train_data, file)\n",
    "\n",
    "with open(os.path.join(DATASET_DIR, 'galaxy_val.json'), 'w') as file:\n",
    "    json.dump(val_data, file)\n",
    "\n",
    "with open(os.path.join(DATASET_DIR, 'galaxy_test.json'), 'w') as file:\n",
    "    json.dump(test_data, file)\n",
    "\n",
    "# Print the number of items in each split to verify\n",
    "print(f'Training set size: {len(train_data)}')\n",
    "print(f'Validation set size: {len(val_data)}')\n",
    "print(f'Test set size: {len(test_data)}')\n"
   ]
  },
  {
   "cell_type": "code",
   "execution_count": 4,
   "metadata": {},
   "outputs": [],
   "source": [
    "# COMPUTE MEAN AND STD OVER THE WHOLE DATASET FOR LATER NORMALIZATION\n",
    "running_mean = 0.0\n",
    "running_std_dev = 0.0\n",
    "\n",
    "for k,v in galaxy_segment.items():\n",
    "    image_path = os.path.join(DATASET_DIR, \"original/zoo2Main\", v['filename'])\n",
    "    image = skimage.io.imread(image_path)\n",
    "\n",
    "    running_mean += image.mean(axis=(0,1))\n",
    "    running_std_dev += image.std(axis=(0,1))"
   ]
  },
  {
   "cell_type": "code",
   "execution_count": 5,
   "metadata": {},
   "outputs": [],
   "source": [
    "mean = [round(x, 4) for x in running_mean/len(galaxy_segment)]\n",
    "std = [round(x, 4) for x in running_std_dev/len(galaxy_segment)]"
   ]
  },
  {
   "cell_type": "code",
   "execution_count": 6,
   "metadata": {},
   "outputs": [
    {
     "name": "stdout",
     "output_type": "stream",
     "text": [
      "Dataset mean: [8.6446, 6.003, 4.9459]\n",
      "Dataset std: [14.7211, 12.4291, 8.7266]\n"
     ]
    }
   ],
   "source": [
    "print(f\"Dataset mean: {mean}\")\n",
    "print(f\"Dataset std: {std}\")"
   ]
  }
 ],
 "metadata": {
  "kernelspec": {
   "display_name": "base",
   "language": "python",
   "name": "python3"
  },
  "language_info": {
   "codemirror_mode": {
    "name": "ipython",
    "version": 3
   },
   "file_extension": ".py",
   "mimetype": "text/x-python",
   "name": "python",
   "nbconvert_exporter": "python",
   "pygments_lexer": "ipython3",
   "version": "3.12.4"
  }
 },
 "nbformat": 4,
 "nbformat_minor": 2
}
