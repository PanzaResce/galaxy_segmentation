{
 "cells": [
  {
   "cell_type": "code",
   "execution_count": 1,
   "metadata": {},
   "outputs": [],
   "source": [
    "import matplotlib.pyplot as plt\n",
    "import sys\n",
    "sys.path.append('../src')\n",
    "\n",
    "from transformers import OneFormerProcessor, OneFormerForUniversalSegmentation, OneFormerConfig\n",
    "from transformers.models.oneformer.image_processing_oneformer import load_metadata, prepare_metadata\n",
    "from safetensors.torch import load_model, save_model\n",
    "from config import DATASET_DIR, CLASS_INFO_PATH, MAIN_PROJECT_DIR, GALAXY_MEAN, GALAXY_STD\n",
    "from visual import *\n",
    "from dataset import *\n",
    "from utils import *"
   ]
  },
  {
   "cell_type": "code",
   "execution_count": null,
   "metadata": {},
   "outputs": [],
   "source": [
    "tr_loss = []\n",
    "val_loss = []\n",
    "with open(\"../out/tr_loss.txt\", \"r\") as f:\n",
    "    tr_loss = [float(val.split()[0]) for val in f.readlines()]\n",
    "\n",
    "with open(\"../out/val_loss.txt\", \"r\") as f:\n",
    "    val_loss = [float(val.split()[0]) for val in f.readlines()]"
   ]
  },
  {
   "cell_type": "code",
   "execution_count": 2,
   "metadata": {},
   "outputs": [
    {
     "name": "stderr",
     "output_type": "stream",
     "text": [
      "/home/panzaresce/anaconda3/lib/python3.12/site-packages/huggingface_hub/file_download.py:1132: FutureWarning: `resume_download` is deprecated and will be removed in version 1.0.0. Downloads always resume when possible. If you want to force a new download, use `force_download=True`.\n",
      "  warnings.warn(\n",
      "Some weights of OneFormerForUniversalSegmentation were not initialized from the model checkpoint at shi-labs/oneformer_ade20k_swin_tiny and are newly initialized because the shapes did not match:\n",
      "- model.transformer_module.decoder.class_embed.weight: found shape torch.Size([151, 256]) in the checkpoint and torch.Size([7, 256]) in the model instantiated\n",
      "- model.transformer_module.decoder.class_embed.bias: found shape torch.Size([151]) in the checkpoint and torch.Size([7]) in the model instantiated\n",
      "- criterion.empty_weight: found shape torch.Size([151]) in the checkpoint and torch.Size([7]) in the model instantiated\n",
      "You should probably TRAIN this model on a down-stream task to be able to use it for predictions and inference.\n",
      "/home/panzaresce/anaconda3/lib/python3.12/site-packages/transformers/models/oneformer/image_processing_oneformer.py:446: FutureWarning: The `reduce_labels` argument is deprecated and will be removed in v4.27. Please use `do_reduce_labels` instead.\n",
      "  warnings.warn(\n"
     ]
    }
   ],
   "source": [
    "model_card = \"shi-labs/oneformer_ade20k_swin_tiny\"\n",
    "\n",
    "id2label, label2id = get_id2label_mappings()\n",
    "config = OneFormerConfig.from_pretrained(model_card, \n",
    "                                        num_classes = len(id2label),\n",
    "                                        id2label = id2label,\n",
    "                                        label2id = label2id,\n",
    "                                        is_training=False)\n",
    "\n",
    "model = OneFormerForUniversalSegmentation.from_pretrained(model_card, config=config, ignore_mismatched_sizes=True)\n",
    "processor = OneFormerProcessor.from_pretrained(model_card)\n",
    "\n",
    "# Metadata must be set according to the dataset through the class_info.json file. Background class must be specified as well. \n",
    "processor.image_processor.repo_path = MAIN_PROJECT_DIR\n",
    "processor.image_processor.class_info_file = os.path.join(MAIN_PROJECT_DIR, CLASS_INFO_PATH)\n",
    "processor.image_processor.metadata = prepare_metadata(load_metadata(MAIN_PROJECT_DIR, os.path.join(MAIN_PROJECT_DIR, CLASS_INFO_PATH)))\n",
    "processor.image_processor.num_text = model.config.num_queries - model.config.text_encoder_n_ctx\n",
    "processor.image_processor.do_resize = False\n",
    "processor.image_processor.do_rescale = False\n",
    "\n",
    "# strict = False because we don't need the text mapper at inference time\n",
    "unmatched = load_model(model, \"../safetensors/galaxy.safetensors\", strict=False)"
   ]
  },
  {
   "cell_type": "code",
   "execution_count": 3,
   "metadata": {},
   "outputs": [],
   "source": [
    "# Only the text_mapper should be unmatched with the pretrained model\n",
    "for el in unmatched[1]:\n",
    "    if el.split(\".\")[1] != \"text_mapper\":\n",
    "        print(f\"BAD: {el}\")"
   ]
  },
  {
   "cell_type": "code",
   "execution_count": 4,
   "metadata": {},
   "outputs": [],
   "source": [
    "# dataset_train = GalaxyDataset(DATASET_DIR, \"train\", processor, CLASS_INFO_PATH, None, GALAXY_MEAN, GALAXY_STD, load_on_demand=True, subset_idx=20)\n",
    "dataset_test = GalaxyDataset(DATASET_DIR, \"test\", processor, CLASS_INFO_PATH, None, GALAXY_MEAN, GALAXY_STD, load_on_demand=True, subset_idx=20)"
   ]
  },
  {
   "cell_type": "code",
   "execution_count": 5,
   "metadata": {},
   "outputs": [
    {
     "data": {
      "text/plain": [
       "20"
      ]
     },
     "execution_count": 5,
     "metadata": {},
     "output_type": "execute_result"
    }
   ],
   "source": [
    "len(dataset_test)"
   ]
  },
  {
   "cell_type": "code",
   "execution_count": 6,
   "metadata": {},
   "outputs": [
    {
     "name": "stderr",
     "output_type": "stream",
     "text": [
      "/home/panzaresce/anaconda3/lib/python3.12/site-packages/torch/functional.py:512: UserWarning: torch.meshgrid: in an upcoming release, it will be required to pass the indexing argument. (Triggered internally at ../aten/src/ATen/native/TensorShape.cpp:3587.)\n",
      "  return _VF.meshgrid(tensors, **kwargs)  # type: ignore[attr-defined]\n"
     ]
    },
    {
     "name": "stdout",
     "output_type": "stream",
     "text": [
      "mIoU: 0.2345\n",
      "Dice: 0.2723\n"
     ]
    }
   ],
   "source": [
    "run_iou, run_dice = compute_metrics(dataset_test, model, processor)\n",
    "print(f\"mIoU: {run_iou / len(dataset_test):.4f}\")\n",
    "print(f\"Dice: {run_dice / len(dataset_test):.4f}\")"
   ]
  },
  {
   "cell_type": "code",
   "execution_count": 9,
   "metadata": {},
   "outputs": [],
   "source": [
    "bs=2\n",
    "test_dataloader = DataLoader(dataset_test, batch_size=bs, shuffle=True)\n",
    "\n",
    "model.to(\"cuda\")\n",
    "model.eval()\n",
    "model.model.is_training = False\n",
    "\n",
    "running_iou = 0.0\n",
    "running_dice = 0.0\n",
    "\n",
    "for batch_idx, batch in enumerate(test_dataloader):\n",
    "    # print(f\"Iteration n. {batch_idx+1} / {len(test_dataloader)}\", end=\"\\r\")\n",
    "    gt_mask = dataset_test.get_gt_mask(batch)\n",
    "\n",
    "    batch.pop(\"mask_labels\", None)\n",
    "    batch.pop(\"text_inputs\", None)\n",
    "    batch = {k:v.to(\"cuda\") for k,v in batch.items()}\n",
    "    with torch.no_grad():\n",
    "        outputs = model(**batch)\n",
    "\n",
    "    pred_mask = torch.stack(processor.post_process_semantic_segmentation(outputs, target_sizes=[(256,256) for _  in range(outputs.masks_queries_logits.shape[0])]))\n",
    "    running_iou += compute_iou(gt_mask, pred_mask.cpu(), batch[\"class_labels\"][:, 1].cpu()).sum()\n",
    "    running_dice += compute_dice(gt_mask, pred_mask.cpu(), batch[\"class_labels\"][:, 1].cpu()).sum()\n",
    "    \n",
    "    break"
   ]
  },
  {
   "cell_type": "code",
   "execution_count": 10,
   "metadata": {},
   "outputs": [
    {
     "data": {
      "text/plain": [
       "torch.Size([2, 150, 6])"
      ]
     },
     "execution_count": 10,
     "metadata": {},
     "output_type": "execute_result"
    }
   ],
   "source": [
    "outputs.class_queries_logits.softmax(dim=-1)[..., :-1].shape"
   ]
  },
  {
   "cell_type": "code",
   "execution_count": 29,
   "metadata": {},
   "outputs": [
    {
     "data": {
      "image/png": "[encoded data removed]",
      "text/plain": [
       "<Figure size 600x600 with 1 Axes>"
      ]
     },
     "metadata": {},
     "output_type": "display_data"
    }
   ],
   "source": [
    "mask_gt_overlap(gt_mask[0], pred_mask[0], id2label)"
   ]
  },
  {
   "cell_type": "code",
   "execution_count": 11,
   "metadata": {},
   "outputs": [
    {
     "data": {
      "image/png": "[encoded data removed]",
      "text/plain": [
       "<Figure size 600x600 with 1 Axes>"
      ]
     },
     "metadata": {},
     "output_type": "display_data"
    }
   ],
   "source": [
    "mask_gt_overlap(gt_mask[1], pred_mask[1], id2label)"
   ]
  }
 ],
 "metadata": {
  "kernelspec": {
   "display_name": "base",
   "language": "python",
   "name": "python3"
  },
  "language_info": {
   "codemirror_mode": {
    "name": "ipython",
    "version": 3
   },
   "file_extension": ".py",
   "mimetype": "text/x-python",
   "name": "python",
   "nbconvert_exporter": "python",
   "pygments_lexer": "ipython3",
   "version": "3.12.4"
  }
 },
 "nbformat": 4,
 "nbformat_minor": 2
}
